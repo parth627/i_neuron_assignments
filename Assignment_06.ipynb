{
 "cells": [
  {
   "cell_type": "code",
   "execution_count": 2,
   "metadata": {},
   "outputs": [
    {
     "data": {
      "text/plain": [
       "['False',\n",
       " 'None',\n",
       " 'True',\n",
       " '__peg_parser__',\n",
       " 'and',\n",
       " 'as',\n",
       " 'assert',\n",
       " 'async',\n",
       " 'await',\n",
       " 'break',\n",
       " 'class',\n",
       " 'continue',\n",
       " 'def',\n",
       " 'del',\n",
       " 'elif',\n",
       " 'else',\n",
       " 'except',\n",
       " 'finally',\n",
       " 'for',\n",
       " 'from',\n",
       " 'global',\n",
       " 'if',\n",
       " 'import',\n",
       " 'in',\n",
       " 'is',\n",
       " 'lambda',\n",
       " 'nonlocal',\n",
       " 'not',\n",
       " 'or',\n",
       " 'pass',\n",
       " 'raise',\n",
       " 'return',\n",
       " 'try',\n",
       " 'while',\n",
       " 'with',\n",
       " 'yield']"
      ]
     },
     "execution_count": 2,
     "metadata": {},
     "output_type": "execute_result"
    }
   ],
   "source": [
    "# Q.1. What are keywords in python? Using the keyword library, print all the python keywords.\n",
    "\n",
    "# Python Keywords are reserved words in python that have special meanings.\n",
    "# All the keywords in python are written in lowercase except True and False\n",
    "\n",
    "import keyword\n",
    "keyword.kwlist\n"
   ]
  },
  {
   "cell_type": "code",
   "execution_count": 3,
   "metadata": {},
   "outputs": [],
   "source": [
    "# Q.2. What are the rules to create variables in python?\n",
    "\n",
    "# should start with a-z or A-Z or _\n",
    "# cannot start with a number\n",
    "# however it can contain a number "
   ]
  },
  {
   "cell_type": "code",
   "execution_count": 5,
   "metadata": {},
   "outputs": [],
   "source": [
    "# Q.3. What are the standards and conventions followed for the nomenclature of variables in\n",
    "# python to improve code readability and maintainability?\n",
    "\n",
    "# Avoid single-letter or cryptic names.\n",
    "#  snake_case\n",
    "# Avoid reserved words:\n",
    "# Follow a consistent naming style\n",
    "# Use meaningful variable names\n",
    "# Use uppercase for constants"
   ]
  },
  {
   "cell_type": "code",
   "execution_count": 6,
   "metadata": {},
   "outputs": [],
   "source": [
    "# Q.4. What will happen if a keyword is used as a variable name?\n",
    "\n",
    "# syntax error "
   ]
  },
  {
   "cell_type": "code",
   "execution_count": 8,
   "metadata": {},
   "outputs": [],
   "source": [
    "# Q.5. For what purpose def keyword is used?\n",
    "\n",
    "# defining/creating a function "
   ]
  },
  {
   "cell_type": "code",
   "execution_count": 9,
   "metadata": {},
   "outputs": [],
   "source": [
    "# Q.6. What is the operation of this special character ‘\\’?\n",
    "\n",
    "# backslash character\n",
    "# used to create escape sequences for special characters within strings.\n",
    "# represent characters in string values that would otherwise be difficult or impossible to type into code."
   ]
  },
  {
   "cell_type": "code",
   "execution_count": 11,
   "metadata": {},
   "outputs": [
    {
     "name": "stdout",
     "output_type": "stream",
     "text": [
      "homogeneous_list [1, 2, 4, 5, 6]\n",
      "heterogeneous_set {False, 1, 3.4, 'a'}\n",
      "homogeneous_tuple ('apple', 'banana', 'litchi', 'mango')\n"
     ]
    }
   ],
   "source": [
    "# Q.7. Give an example of the following conditions:\n",
    "# (i) Homogeneous list\n",
    "# (ii) Heterogeneous set\n",
    "# (iii) Homogeneous tuple\n",
    "\n",
    "\n",
    "# A homogeneous list contains elements of the same data type. In this example, all elements are integers.\n",
    "homogeneous_list = [1,2,4,5,6]\n",
    "print(\"homogeneous_list\",homogeneous_list)\n",
    "\n",
    "# A heterogeneous set can contain elements of different data types.\n",
    "heterogeneous_set = {1,\"a\",3.4,False}\n",
    "print(\"heterogeneous_set\",heterogeneous_set)\n",
    "\n",
    "# A homogeneous tuple contains elements of the same data type\n",
    "homogeneous_tuple = (\"apple\", \"banana\", \"litchi\", \"mango\")\n",
    "print(\"homogeneous_tuple\",homogeneous_tuple)"
   ]
  },
  {
   "cell_type": "code",
   "execution_count": 12,
   "metadata": {},
   "outputs": [],
   "source": [
    "# Q.8. Explain the mutable and immutable data types with proper explanation & examples.\n",
    "\n",
    "# classified based on whether their values can be changed after they are created."
   ]
  },
  {
   "cell_type": "code",
   "execution_count": 13,
   "metadata": {},
   "outputs": [],
   "source": [
    "# Immutable Data Types:\n",
    "# cannot be modified after created\n",
    "\n",
    "# When you perform an operation that seems to modify an immutable object, \n",
    "# you are actually creating a new object with the modified value, leaving the original object unchanged.\n",
    "\n",
    "# Example include int,str,float"
   ]
  },
  {
   "cell_type": "code",
   "execution_count": 14,
   "metadata": {},
   "outputs": [],
   "source": [
    "# Mutable data types can be modified in place, \n",
    "# meaning you can change their elements without creating new objects.\n",
    "\n",
    "# example include list,dict,set"
   ]
  },
  {
   "cell_type": "code",
   "execution_count": null,
   "metadata": {},
   "outputs": [],
   "source": []
  },
  {
   "cell_type": "code",
   "execution_count": null,
   "metadata": {},
   "outputs": [],
   "source": [
    "# Q.9. Write a code to create the given structure using only for loop."
   ]
  },
  {
   "cell_type": "code",
   "execution_count": 17,
   "metadata": {},
   "outputs": [
    {
     "name": "stdout",
     "output_type": "stream",
     "text": [
      "    *\n",
      "   ***\n",
      "  *****\n",
      " *******\n",
      "*********\n"
     ]
    }
   ],
   "source": [
    "rows = 5\n",
    "\n",
    "for i in range(1, rows + 1):\n",
    "    for j in range(1, rows - i + 1):\n",
    "        print(\" \", end=\"\") # print spaces\n",
    "    \n",
    "    for k in range(1, 2 * i):\n",
    "        print(\"*\", end=\"\") #print stars\n",
    "    \n",
    "    print()"
   ]
  },
  {
   "cell_type": "code",
   "execution_count": 18,
   "metadata": {},
   "outputs": [],
   "source": [
    "# Q.10. Write a code to create the given structure using while loop."
   ]
  },
  {
   "cell_type": "code",
   "execution_count": 25,
   "metadata": {},
   "outputs": [
    {
     "name": "stdout",
     "output_type": "stream",
     "text": [
      "|||||||||\n",
      " |||||||\n",
      "  |||||\n",
      "   |||\n",
      "    |\n"
     ]
    }
   ],
   "source": [
    "rows = 5\n",
    "\n",
    "n = rows\n",
    "while(n>0):\n",
    "    j = rows-n\n",
    "    while(j>0):\n",
    "        print(\" \",end=\"\")\n",
    "        j = j - 1\n",
    "    k = ((2*n) - 1)\n",
    "    while(k>0):\n",
    "        print(\"|\",end=\"\")\n",
    "        k = k - 1\n",
    "    print()\n",
    "    n = n - 1 "
   ]
  },
  {
   "cell_type": "code",
   "execution_count": null,
   "metadata": {},
   "outputs": [],
   "source": []
  }
 ],
 "metadata": {
  "kernelspec": {
   "display_name": "Python 3",
   "language": "python",
   "name": "python3"
  },
  "language_info": {
   "codemirror_mode": {
    "name": "ipython",
    "version": 3
   },
   "file_extension": ".py",
   "mimetype": "text/x-python",
   "name": "python",
   "nbconvert_exporter": "python",
   "pygments_lexer": "ipython3",
   "version": "3.9.6"
  },
  "orig_nbformat": 4
 },
 "nbformat": 4,
 "nbformat_minor": 2
}
