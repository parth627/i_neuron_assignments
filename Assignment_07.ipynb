{
 "cells": [
  {
   "cell_type": "code",
   "execution_count": null,
   "metadata": {},
   "outputs": [],
   "source": [
    "# Q.1. Create two int type variables, apply addition, subtraction, division and multiplications\n",
    "# and store the results in variables. Then print the data in the following format by calling the\n",
    "# variables:"
   ]
  },
  {
   "cell_type": "code",
   "execution_count": 1,
   "metadata": {},
   "outputs": [],
   "source": [
    "a = 12\n",
    "b = 13"
   ]
  },
  {
   "cell_type": "code",
   "execution_count": 5,
   "metadata": {},
   "outputs": [
    {
     "name": "stdout",
     "output_type": "stream",
     "text": [
      "First variable is 12 & second variable is 13\n",
      "Addition is 12 + 13 = 25\n",
      "Subtraction is 12 - 13 = -1\n",
      "Multiplication is 12 * 13 = 156\n",
      "Division is 12 / 13 = 0.9230769230769231\n"
     ]
    }
   ],
   "source": [
    "print(\"First variable is {} & second variable is {}\".format(a,b))\n",
    "print(\"Addition is {} + {} = {}\".format(a,b,(a+b)))\n",
    "print(\"Subtraction is {} - {} = {}\".format(a,b,(a-b)))\n",
    "print(\"Multiplication is {} * {} = {}\".format(a,b,(a*b)))\n",
    "print(\"Division is {} / {} = {}\".format(a,b,(a/b)))\n"
   ]
  },
  {
   "cell_type": "code",
   "execution_count": 6,
   "metadata": {},
   "outputs": [],
   "source": [
    "# Q.2. What is the difference between the following operators:\n",
    "# (i) ‘/’ & ‘//’\n",
    "# (ii) ‘**’ & ‘^’\n",
    "\n",
    "\n",
    "# '/' variable is used for division hence it will have more precision and '//' is used for floor division so an int will be returned here\n",
    "# ** is exponentiation operator and ^ is bitwise xor operator.\n",
    "\n"
   ]
  },
  {
   "cell_type": "code",
   "execution_count": 7,
   "metadata": {},
   "outputs": [
    {
     "name": "stdout",
     "output_type": "stream",
     "text": [
      "7.5\n",
      "7\n",
      "7.5\n",
      "7.0\n",
      "-7.5\n",
      "-8.0\n"
     ]
    }
   ],
   "source": [
    "print(15/2)\n",
    "print(15//2)\n",
    "print(15.0/2)\n",
    "print(15.0//2)\n",
    "print(-15.0/2)\n",
    "print(-15.0//2)"
   ]
  },
  {
   "cell_type": "code",
   "execution_count": 9,
   "metadata": {},
   "outputs": [
    {
     "name": "stdout",
     "output_type": "stream",
     "text": [
      "4\n"
     ]
    }
   ],
   "source": [
    "print(5^1)\n",
    "\n",
    "# 5 ->   101 (in bitwise)\n",
    "# 1 ->   001 (in bitwise) \n",
    "# _________\n",
    "# o/p -> 100  \n",
    "\n",
    "# hence xor will give 100 i.e 4"
   ]
  },
  {
   "cell_type": "code",
   "execution_count": 12,
   "metadata": {},
   "outputs": [],
   "source": [
    "# Q.3. List the logical operators.\n",
    "\n",
    "# 'and', 'or' & 'not' are logical operators\n",
    "\n",
    "# '&' , '|' & '!', '^' are bitwise operators"
   ]
  },
  {
   "cell_type": "code",
   "execution_count": 16,
   "metadata": {},
   "outputs": [
    {
     "name": "stdout",
     "output_type": "stream",
     "text": [
      "2\n",
      "10\n"
     ]
    }
   ],
   "source": [
    "# Q.4. Explain right shift operator and left shift operator with examples.\n",
    "\n",
    "# the right shift operator will shift every bit to right with the provided count\n",
    "# the left shift operator will shift every bit to left with the provided count\n",
    "\n",
    "print(5>>1)\n",
    "# 5 ->   0101 (in bitwise)\n",
    "# right shift therefore 010 therefore the answer will be 2\n",
    "\n",
    "print(5<<1)\n",
    "# 5 ->   101 (in bitwise)\n",
    "# left shift therefore 1010 therefore the answer will be 10"
   ]
  },
  {
   "cell_type": "code",
   "execution_count": 20,
   "metadata": {},
   "outputs": [
    {
     "name": "stdout",
     "output_type": "stream",
     "text": [
      "[0, 1, 2, 3, 4, 5, 6, 7, 8, 9, 10, 11, 12, 13, 14]\n",
      "Yes\n"
     ]
    }
   ],
   "source": [
    "# Q.5. Create a list containing int type data of length 15. Then write a code to check if 10 is\n",
    "# present in the list or not.\n",
    "\n",
    "l = list(range(15))\n",
    "print(l)\n",
    "if (10 in l): \n",
    "    print(\"Yes\")\n",
    "else:\n",
    "    print(\"No\")"
   ]
  },
  {
   "cell_type": "code",
   "execution_count": null,
   "metadata": {},
   "outputs": [],
   "source": []
  }
 ],
 "metadata": {
  "kernelspec": {
   "display_name": "Python 3",
   "language": "python",
   "name": "python3"
  },
  "language_info": {
   "codemirror_mode": {
    "name": "ipython",
    "version": 3
   },
   "file_extension": ".py",
   "mimetype": "text/x-python",
   "name": "python",
   "nbconvert_exporter": "python",
   "pygments_lexer": "ipython3",
   "version": "3.9.6"
  },
  "orig_nbformat": 4
 },
 "nbformat": 4,
 "nbformat_minor": 2
}
