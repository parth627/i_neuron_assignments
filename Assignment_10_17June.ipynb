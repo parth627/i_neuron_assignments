{
 "cells": [
  {
   "cell_type": "code",
   "execution_count": 1,
   "metadata": {},
   "outputs": [],
   "source": [
    "# 1. What is the role of try and exception block?\n",
    "\n",
    "# The try and except blocks in Python are used for handling exceptions,\n",
    "#  which are unexpected or erroneous events that can occur during the execution of a program.\n",
    "#  The primary role of these blocks is to gracefully handle errors and preventing them from crashing."
   ]
  },
  {
   "cell_type": "code",
   "execution_count": 2,
   "metadata": {},
   "outputs": [],
   "source": [
    "# 2. What is the syntax for a basic try-except block?\n",
    "\n",
    "try:\n",
    "    {\n",
    "    }\n",
    "    # Code that might raise an exception\n",
    "    # ...\n",
    "except ExceptionType as e:\n",
    "    print(e)\n",
    "    # Code to handle the exception\n",
    "    # ..."
   ]
  },
  {
   "cell_type": "code",
   "execution_count": 5,
   "metadata": {},
   "outputs": [],
   "source": [
    "# 3. What happens if an exception occurs inside a try block and there is no matching\n",
    "# except block?\n",
    "\n",
    "# It will give error; the below code will give error\n",
    "\n",
    "# try:\n",
    "#     result = 10 / 0  # This line raises a ZeroDivisionError\n",
    "# except ValueError as e:\n",
    "#     print(f\"Error: {e}\")\n",
    "\n",
    "# # The following code will not execute because there is no matching except block.\n",
    "# print(\"This code will not be reached.\")\n"
   ]
  },
  {
   "cell_type": "code",
   "execution_count": 11,
   "metadata": {},
   "outputs": [
    {
     "name": "stdout",
     "output_type": "stream",
     "text": [
      "ValueError: invalid literal for int() with base 10: 'a'\n",
      "Execution completed.\n"
     ]
    }
   ],
   "source": [
    "# 4. What is the difference between using a bare except block and specifying a specific\n",
    "# exception type?\n",
    "\n",
    "# We can handle specific type of errors here. \n",
    "# this is preferable approach than bare except\n",
    "\n",
    "try:\n",
    "    x = int(input(\"Enter a number: \"))\n",
    "    result = 10 / x\n",
    "except ValueError as e:\n",
    "    print(f\"ValueError: {e}\")\n",
    "except ZeroDivisionError as e:\n",
    "    print(f\"ZeroDivisionError: {e}\")\n",
    "except Exception as e:\n",
    "    print(f\"An unexpected error occurred: {e}\")\n",
    "else:\n",
    "    print(f\"Result is: {result}\")\n",
    "finally:\n",
    "    print(\"Execution completed.\")\n",
    "\n"
   ]
  },
  {
   "cell_type": "code",
   "execution_count": 14,
   "metadata": {},
   "outputs": [
    {
     "name": "stdout",
     "output_type": "stream",
     "text": [
      "An error occurred.\n",
      "Execution completed.\n"
     ]
    }
   ],
   "source": [
    "# bare example\n",
    "# this is not a preferable approach\n",
    "# here all types of error are handled, unwanted and unexpected errors are also handled\n",
    "# and debugging would be difficult as we wont be able to see what type of error occured.\n",
    "\n",
    "try:\n",
    "    x = int(input(\"Enter a number: \"))\n",
    "    result = 10 / x\n",
    "except:\n",
    "    print(\"An error occurred.\")\n",
    "else:\n",
    "    print(f\"Result is: {result}\")\n",
    "finally:\n",
    "    print(\"Execution completed.\")\n"
   ]
  },
  {
   "cell_type": "code",
   "execution_count": 17,
   "metadata": {},
   "outputs": [
    {
     "name": "stdout",
     "output_type": "stream",
     "text": [
      "Outer Exception: invalid literal for int() with base 10: 'a'\n",
      "Execution completed.\n"
     ]
    }
   ],
   "source": [
    "# 5. Can you have nested try-except blocks in Python? If yes, then give an example.\n",
    "\n",
    "# Yes\n",
    "try:\n",
    "    num1 = int(input(\"Enter the first number: \"))\n",
    "    print(num1)\n",
    "    num2 = int(input(\"Enter the second number: \"))\n",
    "    print(num2)\n",
    "    try:\n",
    "        result = num1 / num2\n",
    "    except ZeroDivisionError as inner_exception:\n",
    "        print(f\"Inner Exception: {inner_exception}\")\n",
    "except ValueError as outer_exception:\n",
    "    print(f\"Outer Exception: {outer_exception}\")\n",
    "else:\n",
    "    print(f\"Result is: {result}\")\n",
    "finally:\n",
    "    print(\"Execution completed.\")"
   ]
  },
  {
   "cell_type": "code",
   "execution_count": 23,
   "metadata": {},
   "outputs": [
    {
     "name": "stdout",
     "output_type": "stream",
     "text": [
      "Inner Exception: division by zero\n",
      "Execution completed.\n"
     ]
    }
   ],
   "source": [
    "# Inner Exception Example\n",
    "try:\n",
    "    num1 = int(input(\"Enter the first number: \"))\n",
    "    num2 = int(input(\"Enter the second number: \"))\n",
    "    try:\n",
    "        rest = num1 / num2\n",
    "    except ZeroDivisionError as inner_exception:\n",
    "        print(f\"Inner Exception: {inner_exception}\")\n",
    "except ValueError as outer_exception:\n",
    "    print(f\"Outer Exception: {outer_exception}\")\n",
    "except:\n",
    "    print(f\"Outer Exception: {outer_exception}\")\n",
    "finally:\n",
    "    print(\"Execution completed.\")"
   ]
  },
  {
   "cell_type": "code",
   "execution_count": null,
   "metadata": {},
   "outputs": [],
   "source": [
    "# 6. Can we use multiple exception blocks, if yes then give an example.\n",
    "\n",
    "# Yes\n",
    "\n",
    "try:\n",
    "    x = int(input(\"Enter a number: \"))\n",
    "    result = 10 / x\n",
    "except ValueError as e:\n",
    "    print(f\"ValueError: {e}\")\n",
    "except ZeroDivisionError as e:\n",
    "    print(f\"ZeroDivisionError: {e}\")\n",
    "except Exception as e:\n",
    "    print(f\"An unexpected error occurred: {e}\")\n",
    "else:\n",
    "    print(f\"Result is: {result}\")\n",
    "finally:\n",
    "    print(\"Execution completed.\")"
   ]
  },
  {
   "cell_type": "code",
   "execution_count": 24,
   "metadata": {},
   "outputs": [],
   "source": [
    "# 7. Write the reason due to which following errors are raised:\n",
    "\n",
    "\n",
    "# a. EOFError -> This occurs when end of file occurs but we are still iterating over it.\n",
    "# or while trying to read the i/p from the user \n",
    "\n",
    "# b. FloatingPointError -> python does not have this in built, \n",
    "\n",
    "\n",
    "# c. IndexError ->  This error is raised when you try to access an index \n",
    "                    # in a sequence (e.g., a list or tuple) that is out of range.\n",
    "\n",
    "\n",
    "# d. MemoryError -> This error occurs when your program runs out of available memory\n",
    "#                    (RAM) while trying to allocate objects.\n",
    "\n",
    "\n",
    "# e. OverflowError -> This error is raised when an arithmetic operation\n",
    "                    #  exceeds the limits of the data type used for representing numbers\n",
    "\n",
    "\n",
    "# f. TabError -> This error is raised when there are inconsistent or\n",
    "#                  incorrect uses of tabs and spaces for indentation in Python code.\n",
    "\n",
    "\n",
    "# g. ValueError -> This error is raised when a function or operation \n",
    "#                  receives an argument of the correct data type but with an inappropriate value."
   ]
  },
  {
   "cell_type": "code",
   "execution_count": null,
   "metadata": {},
   "outputs": [],
   "source": [
    "# 8. Write code for the following given scenario and add try-exception block to it."
   ]
  },
  {
   "cell_type": "code",
   "execution_count": 26,
   "metadata": {},
   "outputs": [
    {
     "name": "stdout",
     "output_type": "stream",
     "text": [
      "ZeroDivisionError: division by zero\n",
      "Execution completed\n"
     ]
    }
   ],
   "source": [
    "# a. Program to divide two numbers\n",
    "\n",
    "try:\n",
    "    x = int(input(\"Enter a number: \"))\n",
    "    result = 10 / x\n",
    "except ZeroDivisionError as e:\n",
    "    print(f\"ZeroDivisionError: {e}\")\n",
    "finally:\n",
    "    print(\"Execution completed\")"
   ]
  },
  {
   "cell_type": "code",
   "execution_count": 27,
   "metadata": {},
   "outputs": [
    {
     "name": "stdout",
     "output_type": "stream",
     "text": [
      "ValueError: invalid literal for int() with base 10: 'abc'\n",
      "Execution completed\n"
     ]
    }
   ],
   "source": [
    "# b. Program to convert a string to an integer\n",
    "try:\n",
    "    x = str(input(\"Enter a string: \"))\n",
    "    result = int(x)\n",
    "except ValueError as e:\n",
    "    print(f\"ValueError: {e}\")\n",
    "finally:\n",
    "    print(\"Execution completed\")"
   ]
  },
  {
   "cell_type": "code",
   "execution_count": 28,
   "metadata": {},
   "outputs": [
    {
     "name": "stdout",
     "output_type": "stream",
     "text": [
      "IndexError: list index out of range\n",
      "Execution completed\n"
     ]
    }
   ],
   "source": [
    "# c. Program to access an element in a list\n",
    "try:\n",
    "    x = [1,2,3]\n",
    "    result = x[3]\n",
    "except IndexError as e:\n",
    "    print(f\"IndexError: {e}\")\n",
    "finally:\n",
    "    print(\"Execution completed\")\n"
   ]
  },
  {
   "cell_type": "code",
   "execution_count": 29,
   "metadata": {},
   "outputs": [
    {
     "name": "stdout",
     "output_type": "stream",
     "text": [
      "Specific Exception: \n",
      "Execution completed\n"
     ]
    }
   ],
   "source": [
    "# d. Program to handle a specific exception\n",
    "\n",
    "try:\n",
    "    x = [1,2,3]\n",
    "    if x[0] == 1 :\n",
    "        raise Exception\n",
    "except Exception as e:\n",
    "    print(f\"Specific Exception: {e}\")\n",
    "finally:\n",
    "    print(\"Execution completed\")"
   ]
  },
  {
   "cell_type": "code",
   "execution_count": 31,
   "metadata": {},
   "outputs": [
    {
     "name": "stdout",
     "output_type": "stream",
     "text": [
      "Handled exception:  2\n",
      "Execution completed\n"
     ]
    }
   ],
   "source": [
    "# e. Program to handle any exception\n",
    "\n",
    "try:\n",
    "    x = [1,2,3]\n",
    "    if x[0] == 1 :\n",
    "        raise Exception\n",
    "except Exception as e:\n",
    "    print(\"Handled exception: \", x[0]+1)\n",
    "finally:\n",
    "    print(\"Execution completed\")"
   ]
  },
  {
   "cell_type": "code",
   "execution_count": null,
   "metadata": {},
   "outputs": [],
   "source": []
  }
 ],
 "metadata": {
  "kernelspec": {
   "display_name": "Python 3",
   "language": "python",
   "name": "python3"
  },
  "language_info": {
   "codemirror_mode": {
    "name": "ipython",
    "version": 3
   },
   "file_extension": ".py",
   "mimetype": "text/x-python",
   "name": "python",
   "nbconvert_exporter": "python",
   "pygments_lexer": "ipython3",
   "version": "3.9.6"
  },
  "orig_nbformat": 4
 },
 "nbformat": 4,
 "nbformat_minor": 2
}
