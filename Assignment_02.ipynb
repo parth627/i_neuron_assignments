{
 "cells": [
  {
   "cell_type": "code",
   "execution_count": 1,
   "metadata": {},
   "outputs": [],
   "source": [
    "# 1.What are the two values of the Boolean data type? How do you write them?\n",
    "\n",
    "# The two values are True and False. They are written with initial letter capital. "
   ]
  },
  {
   "cell_type": "code",
   "execution_count": null,
   "metadata": {},
   "outputs": [],
   "source": [
    "# 2. What are the three different types of Boolean operators?\n",
    "\n",
    "# \"and\", \"or\", \"not\" are boolean/logical operators. "
   ]
  },
  {
   "cell_type": "code",
   "execution_count": 8,
   "metadata": {},
   "outputs": [],
   "source": [
    "# 3. Make a list of each Boolean operator&#39;s truth tables (i.e. every possible combination of Boolean\n",
    "# values for the operator and what it evaluate ).\n",
    "\n",
    "# False and False returns False\n",
    "# False and True returns False\n",
    "# True and False returns False\n",
    "# True and True returns True\n",
    "\n",
    "# Hence Truth table: \n",
    "# A | B | o/p\n",
    "# 0   0   0\n",
    "# 0   1   0\n",
    "# 1   0   0\n",
    "# 1   1   1\n",
    "\n",
    "# ________________________________________\n",
    "\n",
    "# False or False returns False\n",
    "# False or True returns True\n",
    "# True or False returns True\n",
    "# True or True returns True\n",
    "\n",
    "# Hence Truth table: \n",
    "# A | B | o/p\n",
    "# 0   0   0\n",
    "# 0   1   1\n",
    "# 1   0   1\n",
    "# 1   1   1\n",
    "\n",
    "# ________________________________________\n",
    "\n",
    "# not True returns False\n",
    "# not False returns True\n",
    "\n",
    "# Hence Truth table:\n",
    "# A | o/p\n",
    "# 0 |  1\n",
    "# 1 |  0"
   ]
  },
  {
   "cell_type": "code",
   "execution_count": 9,
   "metadata": {},
   "outputs": [],
   "source": [
    "# 4. What are the values of the following expressions?"
   ]
  },
  {
   "cell_type": "code",
   "execution_count": 10,
   "metadata": {},
   "outputs": [
    {
     "data": {
      "text/plain": [
       "False"
      ]
     },
     "execution_count": 10,
     "metadata": {},
     "output_type": "execute_result"
    }
   ],
   "source": [
    "(5>4) and (3==5)\n",
    "# it should be false"
   ]
  },
  {
   "cell_type": "code",
   "execution_count": 11,
   "metadata": {},
   "outputs": [
    {
     "data": {
      "text/plain": [
       "False"
      ]
     },
     "execution_count": 11,
     "metadata": {},
     "output_type": "execute_result"
    }
   ],
   "source": [
    "not(5>4)\n",
    "# it should be again false"
   ]
  },
  {
   "cell_type": "code",
   "execution_count": 12,
   "metadata": {},
   "outputs": [
    {
     "data": {
      "text/plain": [
       "True"
      ]
     },
     "execution_count": 12,
     "metadata": {},
     "output_type": "execute_result"
    }
   ],
   "source": [
    "(5>4) or (3==5)\n",
    "# true"
   ]
  },
  {
   "cell_type": "code",
   "execution_count": 13,
   "metadata": {},
   "outputs": [
    {
     "data": {
      "text/plain": [
       "False"
      ]
     },
     "execution_count": 13,
     "metadata": {},
     "output_type": "execute_result"
    }
   ],
   "source": [
    "not((5>4) or (3==5))\n",
    "# false"
   ]
  },
  {
   "cell_type": "code",
   "execution_count": 14,
   "metadata": {},
   "outputs": [
    {
     "data": {
      "text/plain": [
       "False"
      ]
     },
     "execution_count": 14,
     "metadata": {},
     "output_type": "execute_result"
    }
   ],
   "source": [
    "(True and True) and (True == False)\n",
    "# false"
   ]
  },
  {
   "cell_type": "code",
   "execution_count": 15,
   "metadata": {},
   "outputs": [
    {
     "data": {
      "text/plain": [
       "True"
      ]
     },
     "execution_count": 15,
     "metadata": {},
     "output_type": "execute_result"
    }
   ],
   "source": [
    "(not False) or (not True)\n",
    "# true"
   ]
  },
  {
   "cell_type": "code",
   "execution_count": 18,
   "metadata": {},
   "outputs": [],
   "source": [
    "# 5. What are the six comparison operators?\n",
    "\n",
    "# <,>,<=,>=,==,!="
   ]
  },
  {
   "cell_type": "code",
   "execution_count": 20,
   "metadata": {},
   "outputs": [],
   "source": [
    "# 6. How do you tell the difference between the equal to and assignment operators?Describe a\n",
    "# condition and when you would use one.\n",
    "\n",
    "\n",
    "# \"==\" is used to check if both the operands are equal \n",
    "# \"=\" is used for assigning a value to a variable\n"
   ]
  },
  {
   "cell_type": "code",
   "execution_count": 23,
   "metadata": {},
   "outputs": [
    {
     "name": "stdout",
     "output_type": "stream",
     "text": [
      "True\n",
      "Parth Langalia\n"
     ]
    }
   ],
   "source": [
    "# Condition\n",
    "\n",
    "# \"==\" equal operator\n",
    "print(\"Parth\" == \"Parth\")\n",
    "\n",
    "# \"=\" assignment operator\n",
    "x = \"Parth Langalia\"\n",
    "print(x)"
   ]
  },
  {
   "cell_type": "code",
   "execution_count": 24,
   "metadata": {},
   "outputs": [
    {
     "name": "stdout",
     "output_type": "stream",
     "text": [
      "ham\n",
      "spam\n",
      "spam\n"
     ]
    }
   ],
   "source": [
    "# 7. Identify the three blocks in this code:\n",
    "\n",
    "spam = 0\n",
    "if spam == 10: \n",
    "    print(\"eggs\")  # Block 1\n",
    "if spam > 5:\n",
    "    print(\"bacon\") # Block 2\n",
    "else:\n",
    "    print(\"ham\") # Block 3\n",
    "print(\"spam\")\n",
    "print(\"spam\")"
   ]
  },
  {
   "cell_type": "code",
   "execution_count": 26,
   "metadata": {},
   "outputs": [
    {
     "name": "stdout",
     "output_type": "stream",
     "text": [
      "Greetings!\n"
     ]
    }
   ],
   "source": [
    "# 8. Write code that prints Hello if 1 is stored in spam, prints Howdy if 2 is stored in spam, and prints\n",
    "# Greetings! if anything else is stored in spam.\n",
    "\n",
    "spam = int(input(\"Input a no.\"))\n",
    "if spam == 1:\n",
    "    print(\"Hello\")\n",
    "elif spam == 2:\n",
    "    print(\"Howdy\")\n",
    "else:\n",
    "    print(\"Greetings!\")        "
   ]
  },
  {
   "cell_type": "code",
   "execution_count": 27,
   "metadata": {},
   "outputs": [],
   "source": [
    "# 9.If your programme is stuck in an endless loop, what keys you’ll press?\n",
    "\n",
    "# Ctrl + c"
   ]
  },
  {
   "cell_type": "code",
   "execution_count": 28,
   "metadata": {},
   "outputs": [
    {
     "name": "stdout",
     "output_type": "stream",
     "text": [
      "break example\n",
      "0\n",
      "1\n",
      "continue example\n",
      "0\n",
      "1\n",
      "3\n",
      "4\n"
     ]
    }
   ],
   "source": [
    "# 10. How can you tell the difference between break and continue?\n",
    "\n",
    "print(\"break example\")\n",
    "for i in range(5):\n",
    "    if(i==2):\n",
    "        break\n",
    "    print(i)\n",
    "\n",
    "print(\"continue example\")\n",
    "for i in range(5):\n",
    "    if(i==2):\n",
    "        continue\n",
    "    print(i)"
   ]
  },
  {
   "cell_type": "code",
   "execution_count": 29,
   "metadata": {},
   "outputs": [
    {
     "name": "stdout",
     "output_type": "stream",
     "text": [
      "0\n",
      "1\n",
      "2\n",
      "3\n",
      "4\n",
      "5\n",
      "6\n",
      "7\n",
      "8\n",
      "9\n",
      "_____________________________________\n",
      "0\n",
      "1\n",
      "2\n",
      "3\n",
      "4\n",
      "5\n",
      "6\n",
      "7\n",
      "8\n",
      "9\n",
      "_____________________________________\n",
      "0\n",
      "1\n",
      "2\n",
      "3\n",
      "4\n",
      "5\n",
      "6\n",
      "7\n",
      "8\n",
      "9\n",
      "_____________________________________\n",
      "0\n",
      "5\n"
     ]
    }
   ],
   "source": [
    "# 11. In a for loop, what is the difference between range(10), range(0, 10), and range(0, 10, 1)?\n",
    "\n",
    "# range(10) it will iterate from default 0 to 9\n",
    "for i in range(10):\n",
    "    print(i)\n",
    "print(\"_____________________________________\")\n",
    "# if we want to explicitly state and iterate from 0 to 9\n",
    "for i in range(0,10):\n",
    "    print(i)\n",
    "print(\"_____________________________________\")\n",
    "\n",
    "# basically the third param is step size, like how many steps we want to skip in single iteration\n",
    "for i in range(0,10,1):\n",
    "  print(i) \n",
    "print(\"_____________________________________\")\n",
    "\n",
    "for i in range(0,10,5):\n",
    "  print(i)  "
   ]
  },
  {
   "cell_type": "code",
   "execution_count": 30,
   "metadata": {},
   "outputs": [
    {
     "name": "stdout",
     "output_type": "stream",
     "text": [
      "for loop\n",
      "1\n",
      "2\n",
      "3\n",
      "4\n",
      "5\n",
      "6\n",
      "7\n",
      "8\n",
      "9\n",
      "10\n",
      "while loop\n",
      "1\n",
      "2\n",
      "3\n",
      "4\n",
      "5\n",
      "6\n",
      "7\n",
      "8\n",
      "9\n",
      "10\n"
     ]
    }
   ],
   "source": [
    "# 12. Write a short program that prints the numbers 1 to 10 using a for loop. Then write an equivalent\n",
    "# program that prints the numbers 1 to 10 using a while loop.\n",
    "\n",
    "print(\"for loop\")\n",
    "for i in range(1,11):\n",
    "    print(i)\n",
    "\n",
    "\n",
    "print(\"while loop\")\n",
    "i =1\n",
    "while i <= 10:\n",
    "    print(i)\n",
    "    i+=1"
   ]
  },
  {
   "cell_type": "code",
   "execution_count": null,
   "metadata": {},
   "outputs": [],
   "source": [
    "# 13. If you had a function named bacon() inside a module named spam, how would you call it after\n",
    "# importing spam?\n",
    "\n",
    "# import spam \n",
    "# spam.bacon() would be used for the same."
   ]
  }
 ],
 "metadata": {
  "kernelspec": {
   "display_name": "Python 3",
   "language": "python",
   "name": "python3"
  },
  "language_info": {
   "codemirror_mode": {
    "name": "ipython",
    "version": 3
   },
   "file_extension": ".py",
   "mimetype": "text/x-python",
   "name": "python",
   "nbconvert_exporter": "python",
   "pygments_lexer": "ipython3",
   "version": "3.9.6"
  },
  "orig_nbformat": 4
 },
 "nbformat": 4,
 "nbformat_minor": 2
}
