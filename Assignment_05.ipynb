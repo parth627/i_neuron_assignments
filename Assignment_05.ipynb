{
 "cells": [
  {
   "cell_type": "code",
   "execution_count": 1,
   "metadata": {},
   "outputs": [
    {
     "data": {
      "text/plain": [
       "dict"
      ]
     },
     "execution_count": 1,
     "metadata": {},
     "output_type": "execute_result"
    }
   ],
   "source": [
    "# 1. What does an empty dictionary&#39;s code look like?\n",
    "dict1 = {}\n",
    "type(dict1)"
   ]
  },
  {
   "cell_type": "code",
   "execution_count": 3,
   "metadata": {},
   "outputs": [
    {
     "data": {
      "text/plain": [
       "{'foo': 42}"
      ]
     },
     "execution_count": 3,
     "metadata": {},
     "output_type": "execute_result"
    }
   ],
   "source": [
    "# 2. What is the value of a dictionary value with the key &#39;foo&#39; and the value 42?\n",
    "\n",
    "# 42\n",
    "{'foo':42}\n"
   ]
  },
  {
   "cell_type": "code",
   "execution_count": 4,
   "metadata": {},
   "outputs": [],
   "source": [
    "# 3. What is the most significant distinction between a dictionary and a list?\n",
    "\n",
    "# list -> Ordered\n",
    "# Dictionary -> Unordered"
   ]
  },
  {
   "cell_type": "code",
   "execution_count": 5,
   "metadata": {},
   "outputs": [],
   "source": [
    "# 4. What happens if you try to access spam[&#39;foo&#39;] if spam is {&#39;bar&#39;: 100}?\n",
    "\n",
    "# KeyError as the key \"spam\" is not present"
   ]
  },
  {
   "cell_type": "code",
   "execution_count": 9,
   "metadata": {},
   "outputs": [
    {
     "name": "stdout",
     "output_type": "stream",
     "text": [
      "True\n",
      "True\n"
     ]
    }
   ],
   "source": [
    "# 5. If a dictionary is stored in spam, what is the difference between the expressions &#39;cat&#39; in spam and\n",
    "# &#39;cat&#39; in spam.keys()?\n",
    "\n",
    "# cat in spam will check if there is any key named 'cat' in any keys of dictionary \n",
    "# and cat in spam.keys() will check the \"cat\" value in all the keys of dictionary\n",
    "spam ={'cat':\"value\"}\n",
    "print('cat' in spam)\n",
    "print('cat' in spam.keys())"
   ]
  },
  {
   "cell_type": "code",
   "execution_count": 10,
   "metadata": {},
   "outputs": [
    {
     "name": "stdout",
     "output_type": "stream",
     "text": [
      "True\n",
      "False\n"
     ]
    }
   ],
   "source": [
    "# 6. If a dictionary is stored in spam, what is the difference between the expressions &#39;cat&#39; in spam and\n",
    "# &#39;cat&#39; in spam.values()?\n",
    "\n",
    "# cat in spam will check if there is any key named 'cat' in any keys of dictionary \n",
    "# and cat in spam.values() will check the \"cat\" value in all the values of dictionary\n",
    "spam ={'cat':\"value\"}\n",
    "print('cat' in spam)\n",
    "print('cat' in spam.values())"
   ]
  },
  {
   "cell_type": "code",
   "execution_count": 13,
   "metadata": {},
   "outputs": [
    {
     "name": "stdout",
     "output_type": "stream",
     "text": [
      "{'cat': 'value', 'color': 'black'}\n"
     ]
    }
   ],
   "source": [
    "# 7. What is a shortcut for the following code?\n",
    "# if &#39;color&#39; not in spam:\n",
    "# spam[&#39;color&#39;] = &#39;black&#39;\n",
    "\n",
    "\n",
    "spam.setdefault('color', 'black')\n",
    "print(spam)"
   ]
  },
  {
   "cell_type": "code",
   "execution_count": 15,
   "metadata": {},
   "outputs": [
    {
     "name": "stdout",
     "output_type": "stream",
     "text": [
      "{'cat': 'value', 'color': 'colorValue'}\n"
     ]
    }
   ],
   "source": [
    "spam2 ={'cat':\"value\",\"color\":\"colorValue\"}\n",
    "spam2.setdefault('color', 'black')\n",
    "print(spam2)"
   ]
  },
  {
   "cell_type": "code",
   "execution_count": 21,
   "metadata": {},
   "outputs": [
    {
     "name": "stdout",
     "output_type": "stream",
     "text": [
      "{'cat': 'value', 'color': 'colorValue', 'hello': 'world', 'my': 'name', 'is': 'parth'}\n",
      "{'cat': 'value',\n",
      " 'color': 'colorValue',\n",
      " 'hello': 'world',\n",
      " 'is': 'parth',\n",
      " 'my': 'name'}\n"
     ]
    }
   ],
   "source": [
    "# 8. How do you &quot;pretty print&quot; dictionary values using which module and function?\n",
    "\n",
    "spam2 ={'cat':\"value\",\"color\":\"colorValue\",\"hello\":\"world\",\"my\":\"name\",\"is\":\"parth\"}\n",
    "print(spam2)\n",
    "\n",
    "import pprint\n",
    "pprint.pprint(spam2)"
   ]
  },
  {
   "cell_type": "code",
   "execution_count": null,
   "metadata": {},
   "outputs": [],
   "source": []
  }
 ],
 "metadata": {
  "kernelspec": {
   "display_name": "Python 3",
   "language": "python",
   "name": "python3"
  },
  "language_info": {
   "codemirror_mode": {
    "name": "ipython",
    "version": 3
   },
   "file_extension": ".py",
   "mimetype": "text/x-python",
   "name": "python",
   "nbconvert_exporter": "python",
   "pygments_lexer": "ipython3",
   "version": "3.9.6"
  },
  "orig_nbformat": 4
 },
 "nbformat": 4,
 "nbformat_minor": 2
}
