{
 "cells": [
  {
   "cell_type": "code",
   "execution_count": 1,
   "metadata": {},
   "outputs": [],
   "source": [
    "# 1. In Python, what is the difference between a built-in function and a user-defined function? Provide an\n",
    "# example of each.\n",
    "\n",
    "# built in functions are those are pre defined within the python library itself\n",
    "# for example input() function -> which helps to take the input from the user\n",
    "# the other example include int(), float(), max(), print() etc. \n",
    "\n",
    "# user defined function is the function that is defined by the user as per the requirements\n"
   ]
  },
  {
   "cell_type": "code",
   "execution_count": 5,
   "metadata": {},
   "outputs": [
    {
     "name": "stdout",
     "output_type": "stream",
     "text": [
      "Parth Langalia\n",
      "Parth Langalia\n"
     ]
    }
   ],
   "source": [
    "# example\n",
    "\n",
    "print(\"Parth Langalia\")\n",
    "\n",
    "def Print(x):\n",
    "    print(x.strip())\n",
    "\n",
    "\n",
    "Print(\"      Parth Langalia         \")"
   ]
  },
  {
   "cell_type": "code",
   "execution_count": 7,
   "metadata": {},
   "outputs": [
    {
     "name": "stdout",
     "output_type": "stream",
     "text": [
      "Parth\n",
      "25\n",
      "Langalia\n",
      "25\n"
     ]
    }
   ],
   "source": [
    "# 2. How can you pass arguments to a function in Python? Explain the difference between positional\n",
    "# arguments and keyword arguments.\n",
    "\n",
    "# Positional: basic way to pass arguments to a function which we widely used while coding; here the order of the args matters\n",
    "\n",
    "# Keywords: Keyword arguments are passed with the parameter names explicitly specified. \n",
    "#           args order does not matter here. We can pass in any order. \n",
    "\n",
    "def Print(x,y): \n",
    "    print(x.strip())\n",
    "    print(y**2)\n",
    "\n",
    "Print(\"  Parth  \", 5)\n",
    "\n",
    "Print(y=5, x = \"     Langalia    \")\n"
   ]
  },
  {
   "cell_type": "code",
   "execution_count": 13,
   "metadata": {},
   "outputs": [
    {
     "name": "stdout",
     "output_type": "stream",
     "text": [
      "minor\n",
      "maojor\n"
     ]
    }
   ],
   "source": [
    "# 3 What is the purpose of the return statement in a function? Can a function have multiple return\n",
    "# statements? Explain with an example.\n",
    "\n",
    "# purpose of the return statement is to send a value back to the caller of the function.\n",
    "# they are also used for exiting the function\n",
    "# Yes they can have multiple return statements\n",
    "\n",
    "\n",
    "def check_age(x):\n",
    "    if x > 18:\n",
    "        return \"maojor\"\n",
    "    else:\n",
    "        return \"minor\"\n",
    "    \n",
    "print(check_age(5))\n",
    "print(check_age(60))"
   ]
  },
  {
   "cell_type": "code",
   "execution_count": 1,
   "metadata": {},
   "outputs": [
    {
     "name": "stdout",
     "output_type": "stream",
     "text": [
      "[('C', 50000), ('A', 100000), ('B', 300000), ('D', 2800000)]\n"
     ]
    }
   ],
   "source": [
    "# 4 What are lambda functions in Python? How are they different from regular functions? Provide an\n",
    "# example where a lambda function can be useful.\n",
    "\n",
    "\n",
    "# Lambda Functions <-> Anonymous function\n",
    "\n",
    "# syntax: lambda arguments: expression\n",
    "# they are not defined using 'def'; they are defined on the spot for a task\n",
    "# they are only used when there is a neccessity of single expression; \n",
    "# they cant be used where there is a need of complex logic; no assignments; no loop\n",
    "\n",
    "employee = [(\"A\", 100000), (\"B\", 300000), (\"C\", 50000), (\"D\", 2800000)]\n",
    "\n",
    "sorted_employee = sorted(employee, key=lambda person: person[1])\n",
    "print(sorted_employee)"
   ]
  },
  {
   "cell_type": "code",
   "execution_count": 4,
   "metadata": {},
   "outputs": [
    {
     "name": "stdout",
     "output_type": "stream",
     "text": [
      "20\n",
      "70\n"
     ]
    }
   ],
   "source": [
    "# 5. How does the concept of \"scope\" apply to functions in Python? Explain the difference between local\n",
    "# scope and global scope.\n",
    "\n",
    "\n",
    "x = 20 # Global Scope\n",
    "def func():\n",
    "    x = 70 # Local Scope\n",
    "    print(x)\n",
    "print(x)\n",
    "func() "
   ]
  },
  {
   "cell_type": "code",
   "execution_count": 11,
   "metadata": {},
   "outputs": [
    {
     "name": "stdout",
     "output_type": "stream",
     "text": [
      "Tuple o/p\n",
      "10 20 30\n",
      "List o/p\n",
      "40 50 60\n",
      "Dict o/p\n",
      "70 80 90\n"
     ]
    }
   ],
   "source": [
    "# 6. How can you use the \"return\" statement in a Python function to return multiple values?\n",
    "\n",
    "# Using Tuple\n",
    "def get_x_y_z_tuple():\n",
    "    x = 10\n",
    "    y = 20\n",
    "    z = 30\n",
    "    return x, y, z\n",
    "\n",
    "result = get_x_y_z_tuple()\n",
    "x, y, z = result\n",
    "print(\"Tuple o/p\")\n",
    "print(x, y, z)\n",
    "\n",
    "\n",
    "# _____________________________________\n",
    "# Using List\n",
    "\n",
    "def get_x_y_z_list():\n",
    "    x = 40\n",
    "    y = 50\n",
    "    z = 60\n",
    "    return [x, y, z]\n",
    "\n",
    "# Calling the function and unpacking the tuple\n",
    "result = get_x_y_z_list()\n",
    "x, y, z = result\n",
    "print(\"List o/p\")\n",
    "print(x, y, z)  # Output: 10 20 30\n",
    "\n",
    "# _____________________________________\n",
    "# Using Dictionary\n",
    "\n",
    "def get_x_y_z_dict():\n",
    "    x = 70\n",
    "    y = 80\n",
    "    z = 90\n",
    "    return {\"x\":x, \"y\":y, \"z\":z}\n",
    "\n",
    "# Calling the function and unpacking the tuple\n",
    "result = get_x_y_z_dict()\n",
    "x, y, z = result\n",
    "print(\"Dict o/p\")\n",
    "print(result[x], result[y], result[z])  # Output: 10 20 30"
   ]
  },
  {
   "cell_type": "code",
   "execution_count": 15,
   "metadata": {},
   "outputs": [
    {
     "name": "stdout",
     "output_type": "stream",
     "text": [
      "[0, 4]\n",
      "[1, 2, 3]\n",
      "[0, 4]\n"
     ]
    }
   ],
   "source": [
    "# 7. What is the difference between the \"pass by value\" and \"pass by reference\" concepts when it\n",
    "# comes to function arguments in Python?\n",
    "\n",
    "#  Pass by Object Reference\n",
    "# Here it's essential to understand that when you pass an argument to a function, \n",
    "# you are passing a reference to the object (whether it's mutable or immutable), not the actual object.\n",
    "\n",
    "# For immutable objects (like numbers, strings, and tuples), \n",
    "# changes made to the parameter within the function do not affect the original object because immutable objects cannot be modified in place.\n",
    "\n",
    "# For mutable objects (like lists, dictionaries, and custom objects), \n",
    "# changes made to the parameter within the function do affect the original object because mutable objects can be modified in place.\n",
    "\n",
    "def append_list(list1):\n",
    "    list1.append(4)\n",
    "    print(list1)\n",
    "    list1 = [1, 2, 3] # local variable; new reference\n",
    "    print(list1)\n",
    "\n",
    "list1 = [0]\n",
    "append_list(list1)\n",
    "print(list1)"
   ]
  },
  {
   "cell_type": "code",
   "execution_count": 19,
   "metadata": {},
   "outputs": [
    {
     "name": "stdout",
     "output_type": "stream",
     "text": [
      "2.1972245773362196\n",
      "8103.083927575384\n",
      "512.0\n",
      "3.0\n"
     ]
    }
   ],
   "source": [
    "# 8. Create a function that can intake integer or decimal value and do following operations:\n",
    "# a. Logarithmic function (log x)\n",
    "# b. Exponential function (exp(x))\n",
    "# c. Power function with base 2 (2\n",
    "# x\n",
    "# )\n",
    "# d. Square root\n",
    "\n",
    "\n",
    "import math \n",
    "\n",
    "def func(x):\n",
    "    print(math.log(x))\n",
    "    print(math.exp(x))\n",
    "    print(math.pow(2,x))\n",
    "    print(math.sqrt(x))\n",
    "\n",
    "func(9)"
   ]
  },
  {
   "cell_type": "code",
   "execution_count": 20,
   "metadata": {},
   "outputs": [
    {
     "name": "stdout",
     "output_type": "stream",
     "text": [
      "('Parth', 'Langalia')\n"
     ]
    }
   ],
   "source": [
    "# 9. Create a function that takes a full name as an argument and returns first name and last name.\n",
    "def func2(x):\n",
    "    parts = x.split()\n",
    "    if len(parts) == 1:\n",
    "        return parts[0],\"\"\n",
    "    else:\n",
    "        return parts[0],parts[1]\n",
    "full_name = \"Parth Langalia\"\n",
    "print(func2(full_name))"
   ]
  },
  {
   "cell_type": "code",
   "execution_count": null,
   "metadata": {},
   "outputs": [],
   "source": []
  }
 ],
 "metadata": {
  "kernelspec": {
   "display_name": "Python 3",
   "language": "python",
   "name": "python3"
  },
  "language_info": {
   "codemirror_mode": {
    "name": "ipython",
    "version": 3
   },
   "file_extension": ".py",
   "mimetype": "text/x-python",
   "name": "python",
   "nbconvert_exporter": "python",
   "pygments_lexer": "ipython3",
   "version": "3.9.6"
  },
  "orig_nbformat": 4
 },
 "nbformat": 4,
 "nbformat_minor": 2
}
