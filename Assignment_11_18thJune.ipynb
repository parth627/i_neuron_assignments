{
 "cells": [
  {
   "cell_type": "code",
   "execution_count": 1,
   "metadata": {},
   "outputs": [
    {
     "name": "stdout",
     "output_type": "stream",
     "text": [
      "The result of 10 divided by 2 is: 5.0\n"
     ]
    }
   ],
   "source": [
    "# 1. What is the role of the 'else' block in a try-except statement? Provide an example\n",
    "# scenario where it would be useful.\n",
    "\n",
    "# This can be useful for performing actions that should only occur when no errors have occurred.\n",
    "\n",
    "try:\n",
    "    num1 = int(input(\"Enter the first number: \"))\n",
    "    num2 = int(input(\"Enter the second number: \"))\n",
    "    result = num1 / num2\n",
    "except ZeroDivisionError:\n",
    "    print(\"You cannot divide by zero.\")\n",
    "except ValueError:\n",
    "    print(\"Invalid input. Please enter valid integers.\")\n",
    "else:\n",
    "    print(f\"The result of {num1} divided by {num2} is: {result}\")"
   ]
  },
  {
   "cell_type": "code",
   "execution_count": 2,
   "metadata": {},
   "outputs": [
    {
     "name": "stdout",
     "output_type": "stream",
     "text": [
      "Inner Exception: division by zero\n",
      "Execution completed.\n"
     ]
    }
   ],
   "source": [
    "# 2. Can a try-except block be nested inside another try-except block? Explain with an\n",
    "# example.\n",
    "\n",
    "# Inner Exception Example\n",
    "try:\n",
    "    num1 = int(input(\"Enter the first number: \"))\n",
    "    num2 = int(input(\"Enter the second number: \"))\n",
    "    try:\n",
    "        rest = num1 / num2\n",
    "    except ZeroDivisionError as inner_exception:\n",
    "        print(f\"Inner Exception: {inner_exception}\")\n",
    "except ValueError as outer_exception:\n",
    "    print(f\"Outer Exception: {outer_exception}\")\n",
    "except:\n",
    "    print(f\"Outer Exception: {outer_exception}\")\n",
    "finally:\n",
    "    print(\"Execution completed.\")"
   ]
  },
  {
   "cell_type": "code",
   "execution_count": 3,
   "metadata": {},
   "outputs": [
    {
     "name": "stdout",
     "output_type": "stream",
     "text": [
      "CustomError: Division by zero is not allowed\n"
     ]
    }
   ],
   "source": [
    "# 3. How can you create a custom exception class in Python? Provide an example that\n",
    "# demonstrates its usage.\n",
    "\n",
    "class CustomError(Exception):\n",
    "    def __init__(self, message):\n",
    "        super().__init__(message)\n",
    "\n",
    "def divide(a, b):\n",
    "    if b == 0:\n",
    "        raise CustomError(\"Division by zero is not allowed\")\n",
    "    return a / b\n",
    "\n",
    "try:\n",
    "    result = divide(10, 0)\n",
    "except CustomError as ce:\n",
    "    print(f\"CustomError: {ce}\")\n",
    "else:\n",
    "    print(f\"Result: {result}\")"
   ]
  },
  {
   "cell_type": "code",
   "execution_count": 4,
   "metadata": {},
   "outputs": [],
   "source": [
    "# 4. What are some common exceptions that are built-in to Python?\n",
    "\n",
    "# 7. Write the reason due to which following errors are raised:\n",
    "\n",
    "\n",
    "# a. EOFError -> This occurs when end of file occurs but we are still iterating over it.\n",
    "# or while trying to read the i/p from the user \n",
    "\n",
    "# b. FloatingPointError -> python does not have this in built, \n",
    "\n",
    "\n",
    "# c. IndexError ->  This error is raised when you try to access an index \n",
    "                    # in a sequence (e.g., a list or tuple) that is out of range.\n",
    "\n",
    "\n",
    "# d. MemoryError -> This error occurs when your program runs out of available memory\n",
    "#                    (RAM) while trying to allocate objects.\n",
    "\n",
    "\n",
    "# e. OverflowError -> This error is raised when an arithmetic operation\n",
    "                    #  exceeds the limits of the data type used for representing numbers\n",
    "\n",
    "\n",
    "# f. TabError -> This error is raised when there are inconsistent or\n",
    "#                  incorrect uses of tabs and spaces for indentation in Python code.\n",
    "\n",
    "\n",
    "# g. ValueError -> This error is raised when a function or operation \n",
    "#                  receives an argument of the correct data type but with an inappropriate value.\n",
    "\n",
    "# h. SyntaxError -> Raised when there is a syntax error in the code.\n",
    "\n",
    "# i. IndentationError -> Raised when there are indentation problems in the code.\n",
    "\n",
    "# j. NameError -> Raised when a local or global name is not found."
   ]
  },
  {
   "cell_type": "code",
   "execution_count": 6,
   "metadata": {},
   "outputs": [],
   "source": [
    "# 5. What is logging in Python, and why is it important in software development?\n",
    "\n",
    "\n",
    "# Logging in Python refers to the process of recording log messages and \n",
    "# information during the execution of a program. \n",
    "# It involves capturing and storing information about the program's operation, \n",
    "# including status, errors, warnings, and other relevant details, in a structured and organized manner.\n",
    "\n",
    "# Advantages include\n",
    "# Debugging and Troubleshooting\n",
    "# Error Handling    \n",
    "# Monitoring and Analysis\n",
    "# Auditing and Compliance\n",
    "# Historical Record:\n",
    "# Communication\n",
    "# Performance Optimization\n",
    "# Security\n"
   ]
  },
  {
   "cell_type": "code",
   "execution_count": 10,
   "metadata": {},
   "outputs": [
    {
     "name": "stderr",
     "output_type": "stream",
     "text": [
      "Low disk space detected\n",
      "ZeroDivisionError occured\n",
      "Server connection lost. Program will terminate.\n"
     ]
    }
   ],
   "source": [
    "# 6. Explain the purpose of log levels in Python logging and provide examples of when\n",
    "# each log level would be appropriate.\n",
    "\n",
    "import logging\n",
    "\n",
    "# logging.basicConfig(level=logging.DEBUG)\n",
    "logger = logging.getLogger('my_logger')\n",
    "\n",
    "# Debug\n",
    "#  These messages are typically only relevant to developers and are used during development and testing phases. \n",
    "logger.debug('This is a debug message')\n",
    "\n",
    "# Info\n",
    "# These messages provide a high-level view of what the application is doing\n",
    "logger.info('Application started')\n",
    "\n",
    "# Warning\n",
    "# It is used for non-critical issues that don't prevent the program from functioning but might indicate potential problems.\n",
    "logger.warning('Low disk space detected')\n",
    "\n",
    "# Error\n",
    "# this level is used for errors that caused the application to \n",
    "# fail to perform a specific task but don't necessarily crash the program entirely.\n",
    "try: \n",
    "    result = 10/0\n",
    "except ZeroDivisionError:\n",
    "    logger.error(\"ZeroDivisionError occured\")\n",
    "\n",
    "# level is used for severe errors that prevent the application from continuing its operation.\n",
    "# These errors typically result in program termination.\n",
    "\n",
    "logger.critical('Server connection lost. Program will terminate.')"
   ]
  },
  {
   "cell_type": "code",
   "execution_count": 11,
   "metadata": {},
   "outputs": [
    {
     "name": "stderr",
     "output_type": "stream",
     "text": [
      "2023-09-27 00:36:15,734 - my_logger - DEBUG - This is a debug message\n",
      "2023-09-27 00:36:15,735 - my_logger - INFO - This is an informational message\n",
      "2023-09-27 00:36:15,738 - my_logger - WARNING - This is a warning message\n"
     ]
    }
   ],
   "source": [
    "# 7. What are log formatters in Python logging, and how can you customise the log\n",
    "# message format using formatters?\n",
    "\n",
    "# Log formatters in Python logging are used to define the structure and \n",
    "# content of log messages. They allow you to customize how log messages \n",
    "# are presented in the log output, specifying the format, timestamp, log level, \n",
    "# and additional information as needed. \n",
    "\n",
    "import logging\n",
    "\n",
    "formatter = logging.Formatter('%(asctime)s - %(name)s - %(levelname)s - %(message)s')\n",
    "\n",
    "logger = logging.getLogger('my_logger')\n",
    "logger.setLevel(logging.DEBUG)\n",
    "\n",
    "console_handler = logging.StreamHandler()\n",
    "console_handler.setFormatter(formatter)\n",
    "\n",
    "logger.addHandler(console_handler)\n",
    "\n",
    "# Log some messages\n",
    "logger.debug('This is a debug message')\n",
    "logger.info('This is an informational message')\n",
    "logger.warning('This is a warning message')\n",
    "\n",
    "\n",
    "# By customizing the log message format using formatters,\n",
    "# you can tailor your log output to meet your specific requirements and make it easier to interpret and analyze log entries.\n"
   ]
  },
  {
   "cell_type": "code",
   "execution_count": 18,
   "metadata": {},
   "outputs": [
    {
     "name": "stderr",
     "output_type": "stream",
     "text": [
      "2023-09-27 00:50:39,076 - my_logger - DEBUG - This is a debug message from the module or class\n",
      "2023-09-27 00:50:39,076 - my_logger - DEBUG - This is a debug message from the module or class\n",
      "2023-09-27 00:50:39,081 - my_logger - INFO - This is an informational message from the module or class\n",
      "2023-09-27 00:50:39,081 - my_logger - INFO - This is an informational message from the module or class\n",
      "2023-09-27 00:50:39,084 - my_logger - WARNING - This is a warning message from the module or class\n",
      "2023-09-27 00:50:39,084 - my_logger - WARNING - This is a warning message from the module or class\n",
      "2023-09-27 00:50:39,087 - my_logger - ERROR - This is an error message from the module or class\n",
      "2023-09-27 00:50:39,087 - my_logger - ERROR - This is an error message from the module or class\n"
     ]
    }
   ],
   "source": [
    "# 8 How can you set up logging to capture log messages from multiple modules or\n",
    "# classes in a Python application?\n",
    "\n",
    "# Configure a Central Logger\n",
    "# Create Logger Instances in Modules/Classes\n",
    "# Log Messages in Modules/Classes:\n",
    "# Set Appropriate Log Levels\n",
    "\n",
    "import logging\n",
    "\n",
    "logging.basicConfig(level=logging.DEBUG, format='%(asctime)s - %(name)s - %(levelname)s - %(message)s')\n",
    "\n",
    "logger.setLevel(logging.DEBUG)  # Set the desired log level (DEBUG, INFO, WARNING, ERROR, CRITICAL)\n",
    "\n",
    "\n",
    "logger.debug('This is a debug message from the module or class')\n",
    "logger.info('This is an informational message from the module or class')\n",
    "logger.warning('This is a warning message from the module or class')\n",
    "logger.error('This is an error message from the module or class')\n",
    "\n"
   ]
  },
  {
   "cell_type": "code",
   "execution_count": 19,
   "metadata": {},
   "outputs": [
    {
     "name": "stderr",
     "output_type": "stream",
     "text": [
      "2023-09-27 00:58:42,592 - root - INFO - Hello, World!\n",
      "2023-09-27 00:58:42,600 - root - DEBUG - This is a debug message\n",
      "2023-09-27 00:58:42,602 - root - WARNING - This is a warning message\n",
      "2023-09-27 00:58:42,604 - root - ERROR - This is an error message\n"
     ]
    }
   ],
   "source": [
    "# 9. What is the difference between the logging and print statements in Python? When\n",
    "# should you use logging over print statements in a real-world application?\n",
    "\n",
    "# The print statement is primarily used for displaying information to the console or standard output. \n",
    "# It is typically used for debugging and providing temporary output during development.\n",
    "\n",
    "# The logging module is designed specifically for logging \n",
    "# and recording information about the operation of a program.\n",
    "#  It allows you to capture log messages systematically, including their severity, \n",
    "# timestamps, and source, and provides various options for output, such as writing logs to files, \n",
    "# sending them to external services, or displaying them to the console.\n",
    "\n",
    "import logging\n",
    "\n",
    "logging.basicConfig(\n",
    "    filename='app.log', \n",
    "    level=logging.INFO,\n",
    "    format='%(asctime)s - %(levelname)s - %(message)s',  \n",
    "    filemode='a' \n",
    ")\n",
    "\n",
    "logging.info(\"Hello, World!\")\n",
    "\n",
    "logging.debug(\"This is a debug message\")\n",
    "logging.warning(\"This is a warning message\")\n",
    "logging.error(\"This is an error message\")\n",
    "\n",
    "# Good practice\n",
    "logging.shutdown()\n"
   ]
  },
  {
   "cell_type": "code",
   "execution_count": 1,
   "metadata": {},
   "outputs": [
    {
     "name": "stderr",
     "output_type": "stream",
     "text": [
      "2023-09-27 01:09:53,170 - ERROR - An exception occurred: division by zero\n",
      "Traceback (most recent call last):\n",
      "  File \"C:\\Users\\parth\\AppData\\Local\\Temp\\ipykernel_1168\\777699724.py\", line 18, in <cell line: 17>\n",
      "    result = 10 / 0\n",
      "ZeroDivisionError: division by zero\n"
     ]
    }
   ],
   "source": [
    "# 11. Create a Python program that logs an error message to the console and a file named\n",
    "# \"errors.log\" if an exception occurs during the program's execution. The error\n",
    "# message should include the exception type and a timestamp.\n",
    "\n",
    "\n",
    "import logging\n",
    "\n",
    "logging.basicConfig(\n",
    "    level=logging.ERROR,  # Set the log level to ERROR\n",
    "    format='%(asctime)s - %(levelname)s - %(message)s',  # Define the log message format\n",
    "    handlers=[\n",
    "        logging.StreamHandler(),  # Log to the console\n",
    "        logging.FileHandler('errors.log', mode='a'),  # Append to errors.log file\n",
    "    ]\n",
    ")\n",
    "\n",
    "try:\n",
    "    result = 10 / 0\n",
    "except Exception as e:\n",
    "    logging.error(f'An exception occurred: {e}', exc_info=True)\n",
    "\n",
    "logging.shutdown()\n"
   ]
  },
  {
   "cell_type": "code",
   "execution_count": null,
   "metadata": {},
   "outputs": [],
   "source": []
  }
 ],
 "metadata": {
  "kernelspec": {
   "display_name": "Python 3",
   "language": "python",
   "name": "python3"
  },
  "language_info": {
   "codemirror_mode": {
    "name": "ipython",
    "version": 3
   },
   "file_extension": ".py",
   "mimetype": "text/x-python",
   "name": "python",
   "nbconvert_exporter": "python",
   "pygments_lexer": "ipython3",
   "version": "3.9.6"
  },
  "orig_nbformat": 4
 },
 "nbformat": 4,
 "nbformat_minor": 2
}
