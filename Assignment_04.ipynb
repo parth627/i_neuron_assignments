{
 "cells": [
  {
   "cell_type": "code",
   "execution_count": 1,
   "metadata": {},
   "outputs": [],
   "source": [
    "# 1. What exactly is []?\n",
    "\n",
    "# empty list"
   ]
  },
  {
   "cell_type": "code",
   "execution_count": 2,
   "metadata": {},
   "outputs": [],
   "source": [
    "# 2. In a list of values stored in a variable called spam, how would you assign the value 'hello' as the\n",
    "# third value? (Assume [2, 4, 6, 8, 10] are in spam.)\n"
   ]
  },
  {
   "cell_type": "code",
   "execution_count": 5,
   "metadata": {},
   "outputs": [
    {
     "name": "stdout",
     "output_type": "stream",
     "text": [
      "[2, 4, 'hello', 6, 8, 10]\n"
     ]
    }
   ],
   "source": [
    "spam = [2,4,6,8,10]\n",
    "\n",
    "spam.insert(2,'hello')\n",
    "# spam[2] =\"hello\" could also be used\n",
    "print(spam)"
   ]
  },
  {
   "cell_type": "code",
   "execution_count": 6,
   "metadata": {},
   "outputs": [],
   "source": [
    "# Lets pretend the spam includes the list ['a', 'b','c','d'] for the next three queries."
   ]
  },
  {
   "cell_type": "code",
   "execution_count": 30,
   "metadata": {},
   "outputs": [],
   "source": [
    "spam = ['a','b','c','d']"
   ]
  },
  {
   "cell_type": "code",
   "execution_count": 31,
   "metadata": {},
   "outputs": [],
   "source": [
    "# What is the value of spam[int(int(3 * 2) / 11)]?\n",
    "# it should give 'd'"
   ]
  },
  {
   "cell_type": "code",
   "execution_count": 32,
   "metadata": {},
   "outputs": [
    {
     "data": {
      "text/plain": [
       "'d'"
      ]
     },
     "execution_count": 32,
     "metadata": {},
     "output_type": "execute_result"
    }
   ],
   "source": [
    "spam[int(int('3' * 2) / 11)]"
   ]
  },
  {
   "cell_type": "code",
   "execution_count": 33,
   "metadata": {},
   "outputs": [
    {
     "data": {
      "text/plain": [
       "'d'"
      ]
     },
     "execution_count": 33,
     "metadata": {},
     "output_type": "execute_result"
    }
   ],
   "source": [
    "# 4. What is the value of spam[-1]?\n",
    "# it would be 'd' again\n",
    "spam[-1]"
   ]
  },
  {
   "cell_type": "code",
   "execution_count": 34,
   "metadata": {},
   "outputs": [
    {
     "data": {
      "text/plain": [
       "['a', 'b']"
      ]
     },
     "execution_count": 34,
     "metadata": {},
     "output_type": "execute_result"
    }
   ],
   "source": [
    "# 5. What is the value of spam[:2]?\n",
    "# it would return 0th and 1st element\n",
    "spam[:2]"
   ]
  },
  {
   "cell_type": "code",
   "execution_count": 35,
   "metadata": {},
   "outputs": [],
   "source": [
    "# Let's pretend bacon has the list [3.14, 'cat' 11, 'cat' True] for the next three questions.\n",
    "\n",
    "bacon = [3.14, 'cat', 11, 'cat' ,True]"
   ]
  },
  {
   "cell_type": "code",
   "execution_count": 36,
   "metadata": {},
   "outputs": [
    {
     "data": {
      "text/plain": [
       "1"
      ]
     },
     "execution_count": 36,
     "metadata": {},
     "output_type": "execute_result"
    }
   ],
   "source": [
    "# What is the value of bacon.index('cat')?\n",
    "# it should be 1\n",
    "\n",
    "bacon.index('cat')"
   ]
  },
  {
   "cell_type": "code",
   "execution_count": 37,
   "metadata": {},
   "outputs": [
    {
     "data": {
      "text/plain": [
       "[3.14, 'cat', 11, 'cat', True, 99]"
      ]
     },
     "execution_count": 37,
     "metadata": {},
     "output_type": "execute_result"
    }
   ],
   "source": [
    "# 7. How does bacon.append(99) change the look of the list value in bacon?\n",
    "# it will append the '99' to the last value of the list\n",
    "\n",
    "bacon.append(99)\n",
    "bacon"
   ]
  },
  {
   "cell_type": "code",
   "execution_count": 40,
   "metadata": {},
   "outputs": [],
   "source": [
    "# 8. How does bacon.remove(&#39;cat&#39;) change the look of the list in bacon?\n",
    "\n",
    "# it should remove first appearance of 'cat' "
   ]
  },
  {
   "cell_type": "code",
   "execution_count": 39,
   "metadata": {},
   "outputs": [
    {
     "name": "stdout",
     "output_type": "stream",
     "text": [
      "[3.14, 11, 'cat', True, 99]\n"
     ]
    }
   ],
   "source": [
    "bacon.remove('cat')\n",
    "print(bacon)"
   ]
  },
  {
   "cell_type": "code",
   "execution_count": 41,
   "metadata": {},
   "outputs": [
    {
     "data": {
      "text/plain": [
       "['parth', 'langalia', 'alpesh', 'langalia']"
      ]
     },
     "execution_count": 41,
     "metadata": {},
     "output_type": "execute_result"
    }
   ],
   "source": [
    "# 9. What are the list concatenation and list replication operators?\n",
    "\n",
    "# ( * ) is list replication operator ( + ) is list concatination operator\n",
    "\n",
    "list1 = [\"parth\",\"langalia\"]\n",
    "list2 = [\"alpesh\",\"langalia\"]\n",
    "list3 = list1 + list2\n",
    "list3\n",
    "# this is an example of list concatenation"
   ]
  },
  {
   "cell_type": "code",
   "execution_count": 42,
   "metadata": {},
   "outputs": [
    {
     "name": "stdout",
     "output_type": "stream",
     "text": [
      "['Parth', 'Parth']\n"
     ]
    }
   ],
   "source": [
    "# list replication\n",
    "list4 = ['Parth']\n",
    "print(list4 *2)"
   ]
  },
  {
   "cell_type": "code",
   "execution_count": 43,
   "metadata": {},
   "outputs": [],
   "source": [
    "# 10. What is difference between the list methods append() and insert()?\n",
    "# append() Appends object to the end of the list\n",
    "# insert() Insert object before index\n",
    "\n"
   ]
  },
  {
   "cell_type": "code",
   "execution_count": 48,
   "metadata": {},
   "outputs": [],
   "source": [
    "# 11. What are the two methods for removing items from a list?\n",
    "\n",
    "# remove(), pop() method and del keyword are used for the same"
   ]
  },
  {
   "cell_type": "code",
   "execution_count": 47,
   "metadata": {},
   "outputs": [
    {
     "name": "stdout",
     "output_type": "stream",
     "text": [
      "['parth', 3.14, 11, 'cat', True]\n",
      "['parth', 3.14, 11, 'cat']\n",
      "[3.14, 11, 'cat']\n",
      "[]\n"
     ]
    }
   ],
   "source": [
    "bacon = [\"parth\",3.14, 'cat', 11, 'cat', True]\n",
    "bacon.remove('cat') # first appearance of cat removed\n",
    "print(bacon)\n",
    "\n",
    "bacon.pop() # removes the element of given index, by default it removes the last element \n",
    "print(bacon)\n",
    "\n",
    "del bacon[0] # removes the 0th index element \n",
    "print(bacon)\n",
    "\n",
    "bacon.clear() # clears whole list\n",
    "print(bacon)"
   ]
  },
  {
   "cell_type": "code",
   "execution_count": 49,
   "metadata": {},
   "outputs": [],
   "source": [
    "# 12. Describe how list values and string values are identical.\n",
    "\n",
    "# Both lists and strings can be passed to len(),\n",
    "# have indexes and slices,\n",
    "# be used in for loops,\n",
    "# be concatenated or replicated,\n",
    "# and be used with the in and not in operators."
   ]
  },
  {
   "cell_type": "code",
   "execution_count": 50,
   "metadata": {},
   "outputs": [],
   "source": [
    "# 13. What&#39;s the difference between tuples and lists?\n",
    "\n",
    "# Lists are mutable; they can have values added, removed, or changed. \n",
    "# Tuples are immutable; they cannot be changed at all. \n",
    "\n",
    "# Tuples are written using parentheses, ( and ),\n",
    "#  while lists use the square brackets, [ and ]."
   ]
  },
  {
   "cell_type": "code",
   "execution_count": 55,
   "metadata": {},
   "outputs": [
    {
     "name": "stdout",
     "output_type": "stream",
     "text": [
      "<class 'tuple'>\n"
     ]
    }
   ],
   "source": [
    "# 14. How do you type a tuple value that only contains the integer 42?\n",
    "\n",
    "t = (42,)\n",
    "print(type(t))"
   ]
  },
  {
   "cell_type": "code",
   "execution_count": 56,
   "metadata": {},
   "outputs": [
    {
     "name": "stdout",
     "output_type": "stream",
     "text": [
      "list_to_tuple ('parth', 'langalia')\n",
      "tuple_to_list ['parth', 'langalia']\n"
     ]
    }
   ],
   "source": [
    "# 15. How do you get a list value&#39;s tuple form? How do you get a tuple value&#39;s list form?\n",
    "\n",
    "list1 = [\"parth\", \"langalia\"]\n",
    "list_to_tuple = tuple(list1)\n",
    "print(\"list_to_tuple\",list_to_tuple)\n",
    "\n",
    "tuple1 = ('parth','langalia')\n",
    "tuple_to_list = list(tuple1)\n",
    "print(\"tuple_to_list\",tuple_to_list)"
   ]
  },
  {
   "cell_type": "code",
   "execution_count": 57,
   "metadata": {},
   "outputs": [],
   "source": [
    "# 16. Variables that &quot;contain&quot; list values are not necessarily lists themselves. Instead, what do they\n",
    "# contain?\n",
    "\n",
    "# They contain references to list values"
   ]
  },
  {
   "cell_type": "code",
   "execution_count": 67,
   "metadata": {},
   "outputs": [],
   "source": [
    "# 17. How do you distinguish between copy.copy() and copy.deepcopy()?\n",
    "\n",
    "# The copy.copy() function will do a shallow copy of a list, \n",
    "# while the copy.deepcopy() function will do a deep copy of a list. \n",
    "# That is, only copy.deepcopy() will duplicate any lists inside the list."
   ]
  },
  {
   "cell_type": "code",
   "execution_count": 68,
   "metadata": {},
   "outputs": [
    {
     "name": "stdout",
     "output_type": "stream",
     "text": [
      "list1 ['parth', 'langalia']\n",
      "list2 ['parth', 'langalia']\n",
      "list1 ['parth', 'langalia']\n",
      "list2 ['parth', 'alpesh']\n"
     ]
    }
   ],
   "source": [
    "\n",
    "import copy\n",
    "list1 = [\"parth\",\"langalia\"]\n",
    "print(\"list1\",list1)\n",
    "list2 = copy.copy(list1)\n",
    "print(\"list2\",list2)\n",
    "\n",
    "list2[1] = \"alpesh\"\n",
    "print(\"list1\",list1)\n",
    "print(\"list2\",list2) # wont get affected\n"
   ]
  },
  {
   "cell_type": "code",
   "execution_count": 69,
   "metadata": {},
   "outputs": [
    {
     "name": "stdout",
     "output_type": "stream",
     "text": [
      "list1 ['parth', 'langalia']\n",
      "list2 ['parth', 'langalia']\n",
      "list1 ['parth', 'langalia']\n",
      "list2 ['parth', 'alpesh']\n"
     ]
    }
   ],
   "source": [
    "list1 = [\"parth\",\"langalia\"]\n",
    "print(\"list1\",list1)\n",
    "list2 = copy.deepcopy(list1)\n",
    "print(\"list2\",list2)\n",
    "\n",
    "list2[1] = \"alpesh\"\n",
    "print(\"list1\",list1)\n",
    "print(\"list2\",list2)\n"
   ]
  },
  {
   "cell_type": "code",
   "execution_count": null,
   "metadata": {},
   "outputs": [],
   "source": []
  }
 ],
 "metadata": {
  "kernelspec": {
   "display_name": "Python 3",
   "language": "python",
   "name": "python3"
  },
  "language_info": {
   "codemirror_mode": {
    "name": "ipython",
    "version": 3
   },
   "file_extension": ".py",
   "mimetype": "text/x-python",
   "name": "python",
   "nbconvert_exporter": "python",
   "pygments_lexer": "ipython3",
   "version": "3.9.6"
  },
  "orig_nbformat": 4
 },
 "nbformat": 4,
 "nbformat_minor": 2
}
