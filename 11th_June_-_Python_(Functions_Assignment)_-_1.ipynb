{
 "cells": [
  {
   "cell_type": "code",
   "execution_count": 25,
   "metadata": {},
   "outputs": [
    {
     "name": "stdout",
     "output_type": "stream",
     "text": [
      "[('C', 50000), ('A', 100000), ('B', 300000), ('D', 2800000)]\n"
     ]
    }
   ],
   "source": [
    "# 1. What is a lambda function in Python, and how does it differ from a regular function?\n",
    "\n",
    "# Lambda Functions <-> Anonymous function\n",
    "\n",
    "# syntax: lambda arguments: expression\n",
    "# they are not defined using 'def'; they are defined on the spot for a task\n",
    "# they are only used when there is a neccessity of single expression; \n",
    "# they cant be used where there is a need of complex logic; no assignments; no loop\n",
    "\n",
    "employee = [(\"A\", 100000), (\"B\", 300000), (\"C\", 50000), (\"D\", 2800000)]\n",
    "\n",
    "sorted_employee = sorted(employee, key=lambda person: person[1])\n",
    "print(sorted_employee)"
   ]
  },
  {
   "cell_type": "code",
   "execution_count": 26,
   "metadata": {},
   "outputs": [
    {
     "name": "stdout",
     "output_type": "stream",
     "text": [
      "8\n"
     ]
    }
   ],
   "source": [
    "# 2. Can a lambda function in Python have multiple arguments? If yes, how can you define and use\n",
    "# them?\n",
    "\n",
    "# Yes\n",
    "# lambda argument1, argument2, ... : expression\n",
    "add = lambda x, y: x + y\n",
    "op = add(3, 5)\n",
    "print(op) "
   ]
  },
  {
   "cell_type": "code",
   "execution_count": 27,
   "metadata": {},
   "outputs": [
    {
     "name": "stdout",
     "output_type": "stream",
     "text": [
      "[('C', 50000), ('A', 100000), ('B', 300000), ('D', 2800000)]\n",
      "[0, 1, 2, 3, 4, 5, 6, 7, 8, 9]\n",
      "[0, 2, 4, 6, 8]\n",
      "[0, 1, 4, 9, 16, 25, 36, 49, 64, 81]\n"
     ]
    }
   ],
   "source": [
    "# How are lambda functions typically used in Python? Provide an example use case.\n",
    "\n",
    "# Used when short,simple and single expression;\n",
    "# widely used with sorted, filter,and map\n",
    "# also used when we want to use as callback function\n",
    "\n",
    "# Sort\n",
    "employee = [(\"A\", 100000), (\"B\", 300000), (\"C\", 50000), (\"D\", 2800000)]\n",
    "sorted_employee = sorted(employee, key=lambda person: person[1])\n",
    "print(sorted_employee)\n",
    "\n",
    "# Filter\n",
    "numbers = list(range(10))\n",
    "print(numbers)\n",
    "even_numbers = list(filter(lambda x: x % 2 == 0, numbers))\n",
    "print(even_numbers)\n",
    "\n",
    "# Map\n",
    "squared_numbers = list(map(lambda x: x ** 2, numbers))\n",
    "print(squared_numbers)\n",
    "\n",
    "# Callback functions\n",
    "# button.click(lambda:print(\"Button Clicked\"))"
   ]
  },
  {
   "cell_type": "code",
   "execution_count": 28,
   "metadata": {},
   "outputs": [],
   "source": [
    "# 4. What are the advantages and limitations of lambda functions compared to regular functions in\n",
    "# Python?\n",
    "\n",
    "# Advantages: \n",
    "# Small, short and simple\n",
    "# Readable\n",
    "# Can avoid function name conflicts\n",
    "# Functional programming -> specific task\n",
    "\n",
    "# Limitations:\n",
    "# No multiple statements\n",
    "# No loop\n",
    "# No complex logic\n",
    "# Cannot reuse the code\n",
    "# Cannot debug as they dont have name"
   ]
  },
  {
   "cell_type": "code",
   "execution_count": 29,
   "metadata": {},
   "outputs": [
    {
     "name": "stdout",
     "output_type": "stream",
     "text": [
      "15\n"
     ]
    }
   ],
   "source": [
    "# 5. Are lambda functions in Python able to access variables defined outside of their own scope?\n",
    "# Explain with an example.\n",
    "\n",
    "# Yes, lambda functions in Python can access variables defined outside of their own scope. \n",
    "# They can access variables from the enclosing (parent) scope, similar to regular functions defined within that scope. \n",
    "# This is known as lexical scoping or closure. \n",
    "\n",
    "def outer_function(x):\n",
    "    inner_lambda = lambda y: x + y\n",
    "    return inner_lambda\n",
    "\n",
    "closure = outer_function(10)\n",
    "\n",
    "result = closure(5)\n",
    "print(result) "
   ]
  },
  {
   "cell_type": "code",
   "execution_count": 30,
   "metadata": {},
   "outputs": [
    {
     "name": "stdout",
     "output_type": "stream",
     "text": [
      "25\n",
      "4\n"
     ]
    }
   ],
   "source": [
    "# 6. Write a lambda function to calculate the square of a given number.\n",
    "\n",
    "print((lambda x : x**2)(5))\n",
    "\n",
    "#  OR\n",
    "\n",
    "square = lambda x: x ** 2\n",
    "\n",
    "print(square(2))"
   ]
  },
  {
   "cell_type": "code",
   "execution_count": 31,
   "metadata": {},
   "outputs": [
    {
     "name": "stdout",
     "output_type": "stream",
     "text": [
      "5\n"
     ]
    }
   ],
   "source": [
    "# 7. Create a lambda function to find the maximum value in a list of integers.\n",
    "\n",
    "minimum = lambda list1 : min(list1)\n",
    "\n",
    "temp_list = list(range(5,10))\n",
    "print(minimum(temp_list)) "
   ]
  },
  {
   "cell_type": "code",
   "execution_count": 32,
   "metadata": {},
   "outputs": [
    {
     "name": "stdout",
     "output_type": "stream",
     "text": [
      "[0, 1, 2, 3, 4, 5, 6, 7, 8, 9]\n",
      "[0, 2, 4, 6, 8]\n"
     ]
    }
   ],
   "source": [
    "# 8. Implement a lambda function to filter out all the even numbers from a list of integers.\n",
    "\n",
    "numbers = list(range(10))\n",
    "print(numbers)\n",
    "even_numbers = list(filter(lambda x: x % 2 == 0, numbers))\n",
    "print(even_numbers)"
   ]
  },
  {
   "cell_type": "code",
   "execution_count": 33,
   "metadata": {},
   "outputs": [
    {
     "name": "stdout",
     "output_type": "stream",
     "text": [
      "['parth', 'langalia']\n"
     ]
    }
   ],
   "source": [
    "# 9. Write a lambda function to sort a list of strings in ascending order based on the length of each\n",
    "# string.\n",
    "\n",
    "sorted_list = lambda x:sorted(x,reverse=True)\n",
    "\n",
    "print(sorted_list([\"langalia\",\"parth\"]))"
   ]
  },
  {
   "cell_type": "code",
   "execution_count": 34,
   "metadata": {},
   "outputs": [
    {
     "data": {
      "text/plain": [
       "[3, 4, 5]"
      ]
     },
     "execution_count": 34,
     "metadata": {},
     "output_type": "execute_result"
    }
   ],
   "source": [
    "# 10. Create a lambda function that takes two lists as input and returns a new list containing the\n",
    "# common elements between the two lists.\n",
    "\n",
    "common_elements = lambda list1, list2: list(filter(lambda x: x in list2, list1))\n",
    "\n",
    "list1 = [1, 2, 3, 4, 5]\n",
    "list2 = [3, 4, 5, 6, 7]\n",
    "\n",
    "common_elements(list1,list2)"
   ]
  },
  {
   "cell_type": "code",
   "execution_count": 35,
   "metadata": {},
   "outputs": [
    {
     "data": {
      "text/plain": [
       "24"
      ]
     },
     "execution_count": 35,
     "metadata": {},
     "output_type": "execute_result"
    }
   ],
   "source": [
    "# 11. Write a recursive function to calculate the factorial of a given positive integer.\n",
    "\n",
    "def factorial(n):\n",
    "    if n == 0:\n",
    "        return 1\n",
    "    else:\n",
    "        return n * factorial(n - 1)\n",
    "    \n",
    "factorial(4)"
   ]
  },
  {
   "cell_type": "code",
   "execution_count": 36,
   "metadata": {},
   "outputs": [
    {
     "name": "stdout",
     "output_type": "stream",
     "text": [
      "3\n"
     ]
    }
   ],
   "source": [
    "# 12. Implement a recursive function to compute the nth Fibonacci number.\n",
    "\n",
    "def fibonacci(n):\n",
    "    if n <= 0:\n",
    "        return 0\n",
    "    elif n == 1:\n",
    "        return 1\n",
    "    else:\n",
    "        return fibonacci(n - 1) + fibonacci(n - 2)\n",
    "    \n",
    "res = fibonacci(4)\n",
    "print(res)"
   ]
  },
  {
   "cell_type": "code",
   "execution_count": 37,
   "metadata": {},
   "outputs": [],
   "source": [
    "# 14. Write a recursive function to determine whether a given string is a palindrome.\n",
    "\n",
    "def isPallindrome(string: str):\n",
    "    string = string.replace(\" \", \"\").lower()\n",
    "\n",
    "    if len(string) < 2:\n",
    "        return True\n",
    "    elif(string[0] != string[-1]):\n",
    "        return False   \n",
    "    else:\n",
    "        return isPallindrome(string[1:-1])      \n"
   ]
  },
  {
   "cell_type": "code",
   "execution_count": 38,
   "metadata": {},
   "outputs": [
    {
     "name": "stdout",
     "output_type": "stream",
     "text": [
      "True\n"
     ]
    }
   ],
   "source": [
    "print(isPallindrome(\"aaaa\"))"
   ]
  },
  {
   "cell_type": "code",
   "execution_count": 39,
   "metadata": {},
   "outputs": [],
   "source": [
    "# 15. Implement a recursive function to find the greatest common divisor (GCD) of two positive integers.\n",
    "def gcd(a, b):\n",
    "    if b == 0:\n",
    "        return a \n",
    "    else:\n",
    "        return gcd(b, a % b)"
   ]
  },
  {
   "cell_type": "code",
   "execution_count": 40,
   "metadata": {},
   "outputs": [
    {
     "name": "stdout",
     "output_type": "stream",
     "text": [
      "6\n"
     ]
    }
   ],
   "source": [
    "num1 = 48\n",
    "num2 = 18\n",
    "result = gcd(num1, num2)\n",
    "print(result)"
   ]
  },
  {
   "cell_type": "code",
   "execution_count": null,
   "metadata": {},
   "outputs": [],
   "source": []
  }
 ],
 "metadata": {
  "kernelspec": {
   "display_name": "Python 3",
   "language": "python",
   "name": "python3"
  },
  "language_info": {
   "codemirror_mode": {
    "name": "ipython",
    "version": 3
   },
   "file_extension": ".py",
   "mimetype": "text/x-python",
   "name": "python",
   "nbconvert_exporter": "python",
   "pygments_lexer": "ipython3",
   "version": "3.9.6"
  },
  "orig_nbformat": 4
 },
 "nbformat": 4,
 "nbformat_minor": 2
}
